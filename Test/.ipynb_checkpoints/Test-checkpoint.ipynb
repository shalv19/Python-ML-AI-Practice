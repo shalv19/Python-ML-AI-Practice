{
 "cells": [
  {
   "cell_type": "code",
   "execution_count": 2,
   "metadata": {},
   "outputs": [],
   "source": [
    "from sklearn.linear_model import LinearRegression\n",
    "from sklearn.metrics import mean_squared_error\n",
    "import pandas as pd\n",
    "import numpy as np"
   ]
  },
  {
   "cell_type": "code",
   "execution_count": 41,
   "metadata": {},
   "outputs": [
    {
     "data": {
      "text/plain": [
       "area_type          0\n",
       "availability       0\n",
       "location           1\n",
       "size              16\n",
       "society         5502\n",
       "total_sqft         0\n",
       "bath              73\n",
       "balcony          609\n",
       "price              0\n",
       "dtype: int64"
      ]
     },
     "execution_count": 41,
     "metadata": {},
     "output_type": "execute_result"
    }
   ],
   "source": [
    "# Read data from the system\n",
    "model = pd.read_csv('Model.csv')\n",
    "model.head()\n"
   ]
  },
  {
   "cell_type": "code",
   "execution_count": 88,
   "metadata": {},
   "outputs": [],
   "source": [
    "# From data set we need only Size, total_sqft,bath,balcony and price.\n",
    "size = model['size'].values\n",
    "total_sqft = model['total_sqft'].values\n",
    "bath = model['bath'].values\n",
    "balcony = model['balcony'].values\n",
    "price = model['price'].values\n",
    "\n",
    "dataset = pd.DataFrame({'size':size,'total_sqft':total_sqft,'bath':bath,\n",
    "                       'balcony':balcony,'price':price})\n"
   ]
  },
  {
   "cell_type": "code",
   "execution_count": 89,
   "metadata": {},
   "outputs": [
    {
     "data": {
      "text/html": [
       "<div>\n",
       "<style scoped>\n",
       "    .dataframe tbody tr th:only-of-type {\n",
       "        vertical-align: middle;\n",
       "    }\n",
       "\n",
       "    .dataframe tbody tr th {\n",
       "        vertical-align: top;\n",
       "    }\n",
       "\n",
       "    .dataframe thead th {\n",
       "        text-align: right;\n",
       "    }\n",
       "</style>\n",
       "<table border=\"1\" class=\"dataframe\">\n",
       "  <thead>\n",
       "    <tr style=\"text-align: right;\">\n",
       "      <th></th>\n",
       "      <th>size</th>\n",
       "      <th>total_sqft</th>\n",
       "      <th>bath</th>\n",
       "      <th>balcony</th>\n",
       "      <th>price</th>\n",
       "    </tr>\n",
       "  </thead>\n",
       "  <tbody>\n",
       "    <tr>\n",
       "      <th>0</th>\n",
       "      <td>2</td>\n",
       "      <td>1056</td>\n",
       "      <td>2.0</td>\n",
       "      <td>1.0</td>\n",
       "      <td>39.07</td>\n",
       "    </tr>\n",
       "    <tr>\n",
       "      <th>1</th>\n",
       "      <td>4</td>\n",
       "      <td>2600</td>\n",
       "      <td>5.0</td>\n",
       "      <td>3.0</td>\n",
       "      <td>120.00</td>\n",
       "    </tr>\n",
       "    <tr>\n",
       "      <th>2</th>\n",
       "      <td>3</td>\n",
       "      <td>1440</td>\n",
       "      <td>2.0</td>\n",
       "      <td>3.0</td>\n",
       "      <td>62.00</td>\n",
       "    </tr>\n",
       "    <tr>\n",
       "      <th>3</th>\n",
       "      <td>3</td>\n",
       "      <td>1521</td>\n",
       "      <td>3.0</td>\n",
       "      <td>1.0</td>\n",
       "      <td>95.00</td>\n",
       "    </tr>\n",
       "    <tr>\n",
       "      <th>4</th>\n",
       "      <td>2</td>\n",
       "      <td>1200</td>\n",
       "      <td>2.0</td>\n",
       "      <td>1.0</td>\n",
       "      <td>51.00</td>\n",
       "    </tr>\n",
       "  </tbody>\n",
       "</table>\n",
       "</div>"
      ],
      "text/plain": [
       "  size total_sqft  bath  balcony   price\n",
       "0    2       1056   2.0      1.0   39.07\n",
       "1    4       2600   5.0      3.0  120.00\n",
       "2    3       1440   2.0      3.0   62.00\n",
       "3    3       1521   3.0      1.0   95.00\n",
       "4    2       1200   2.0      1.0   51.00"
      ]
     },
     "execution_count": 89,
     "metadata": {},
     "output_type": "execute_result"
    }
   ],
   "source": [
    "# Dataset without nan value \n",
    "dataset = dataset.dropna()\n",
    "\n",
    "#Split the column to remove the text part in size column field.\n",
    "dataset['size'] = dataset['size'].str.split(' ',1).str[0]\n",
    "\n",
    "dataset.head()\n",
    "# Now Data is prepared to fit in model"
   ]
  },
  {
   "cell_type": "code",
   "execution_count": 97,
   "metadata": {},
   "outputs": [
    {
     "name": "stdout",
     "output_type": "stream",
     "text": [
      "RMSE = 120.35096986388719\n",
      "R2_Score = 0.16562856638244658\n",
      "Predict price of 3 BHK: [117.755417]\n"
     ]
    }
   ],
   "source": [
    "# Create Liner rigression model for the dataset.\n",
    "from sklearn.linear_model import LinearRegression\n",
    "from sklearn.metrics import mean_squared_error\n",
    "\n",
    "m = len(dataset)\n",
    "\n",
    "# predict price with respect to size of bedroom.\n",
    "\n",
    "X = dataset['size'].values\n",
    "Y = dataset['price'].values\n",
    "\n",
    "X = X.reshape((m,1))\n",
    "\n",
    "reg = LinearRegression()\n",
    "\n",
    "reg = reg.fit(X, Y)\n",
    "\n",
    "Y_pred = reg.predict(X)\n",
    "\n",
    "mse = mean_squared_error(Y, Y_pred)\n",
    "rmse = np.sqrt(mse)\n",
    "r2_score = reg.score(X, Y)\n",
    "\n",
    "print(\"RMSE =\",rmse)\n",
    "print(\"R2_Score =\",r2_score)\n",
    "\n",
    "print('Predict price of 3 BHK:',reg.predict(3))"
   ]
  },
  {
   "cell_type": "code",
   "execution_count": 104,
   "metadata": {},
   "outputs": [
    {
     "name": "stdout",
     "output_type": "stream",
     "text": [
      "RMSE = 117.00695541413687\n",
      "R2_Score = 0.21135129292956698\n",
      "Predict price of 3 bathroom flat: [124.96644348]\n"
     ]
    }
   ],
   "source": [
    "# Create model based on number of bathroom in flat.\n",
    "Z = dataset['bath'].values\n",
    "Y = dataset['price'].values\n",
    "\n",
    "Z = Z.reshape((m,1))\n",
    "\n",
    "reg = LinearRegression()\n",
    "\n",
    "reg = reg.fit(Z, Y)\n",
    "\n",
    "Y_pred = reg.predict(Z)\n",
    "\n",
    "mse = mean_squared_error(Y, Y_pred)\n",
    "rmse = np.sqrt(mse)\n",
    "r2_score = reg.score(Z, Y)\n",
    "\n",
    "print(\"RMSE =\",rmse)\n",
    "print(\"R2_Score =\",r2_score)\n",
    "print('Predict price of 3 bathroom flat:',reg.predict(3))"
   ]
  },
  {
   "cell_type": "code",
   "execution_count": 106,
   "metadata": {},
   "outputs": [
    {
     "name": "stdout",
     "output_type": "stream",
     "text": [
      "RMSE = 130.79809303276915\n",
      "R2_Score = 0.014485400496118572\n",
      "Predict price of 3 balacony flat: [133.52790229]\n"
     ]
    }
   ],
   "source": [
    "# Predict the value of flat based on number of bolcony in it.\n",
    "X = dataset['balcony'].values\n",
    "Y = dataset['price'].values\n",
    "\n",
    "X = X.reshape((m,1))\n",
    "\n",
    "reg = LinearRegression()\n",
    "\n",
    "reg = reg.fit(X, Y)\n",
    "\n",
    "Y_pred = reg.predict(X)\n",
    "\n",
    "mse = mean_squared_error(Y, Y_pred)\n",
    "rmse = np.sqrt(mse)\n",
    "r2_score = reg.score(X, Y)\n",
    "\n",
    "print(\"RMSE =\",rmse)\n",
    "print(\"R2_Score =\",r2_score)\n",
    "\n",
    "print('Predict price of 3 balacony flat:',reg.predict(3))"
   ]
  },
  {
   "cell_type": "code",
   "execution_count": null,
   "metadata": {},
   "outputs": [],
   "source": []
  },
  {
   "cell_type": "code",
   "execution_count": null,
   "metadata": {},
   "outputs": [],
   "source": []
  }
 ],
 "metadata": {
  "kernelspec": {
   "display_name": "Python 3",
   "language": "python",
   "name": "python3"
  },
  "language_info": {
   "codemirror_mode": {
    "name": "ipython",
    "version": 3
   },
   "file_extension": ".py",
   "mimetype": "text/x-python",
   "name": "python",
   "nbconvert_exporter": "python",
   "pygments_lexer": "ipython3",
   "version": "3.6.5"
  }
 },
 "nbformat": 4,
 "nbformat_minor": 2
}
